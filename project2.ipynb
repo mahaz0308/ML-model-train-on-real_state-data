{
 "cells": [
  {
   "cell_type": "code",
   "execution_count": 1,
   "metadata": {},
   "outputs": [],
   "source": [
    "import pandas as pd"
   ]
  },
  {
   "cell_type": "code",
   "execution_count": 2,
   "metadata": {},
   "outputs": [],
   "source": [
    "data=pd.read_csv(\"data.csv\")"
   ]
  },
  {
   "cell_type": "code",
   "execution_count": 3,
   "metadata": {},
   "outputs": [
    {
     "data": {
      "text/html": [
       "<div>\n",
       "<style scoped>\n",
       "    .dataframe tbody tr th:only-of-type {\n",
       "        vertical-align: middle;\n",
       "    }\n",
       "\n",
       "    .dataframe tbody tr th {\n",
       "        vertical-align: top;\n",
       "    }\n",
       "\n",
       "    .dataframe thead th {\n",
       "        text-align: right;\n",
       "    }\n",
       "</style>\n",
       "<table border=\"1\" class=\"dataframe\">\n",
       "  <thead>\n",
       "    <tr style=\"text-align: right;\">\n",
       "      <th></th>\n",
       "      <th>TD</th>\n",
       "      <th>HA</th>\n",
       "      <th>DNMS</th>\n",
       "      <th>NCS</th>\n",
       "      <th>LA</th>\n",
       "      <th>LO</th>\n",
       "      <th>P</th>\n",
       "    </tr>\n",
       "  </thead>\n",
       "  <tbody>\n",
       "    <tr>\n",
       "      <th>0</th>\n",
       "      <td>2012.917</td>\n",
       "      <td>32.0</td>\n",
       "      <td>84.87882</td>\n",
       "      <td>10</td>\n",
       "      <td>24.98298</td>\n",
       "      <td>121.54024</td>\n",
       "      <td>37.9</td>\n",
       "    </tr>\n",
       "    <tr>\n",
       "      <th>1</th>\n",
       "      <td>2012.917</td>\n",
       "      <td>19.5</td>\n",
       "      <td>306.59470</td>\n",
       "      <td>9</td>\n",
       "      <td>24.98034</td>\n",
       "      <td>121.53951</td>\n",
       "      <td>42.2</td>\n",
       "    </tr>\n",
       "    <tr>\n",
       "      <th>2</th>\n",
       "      <td>2013.583</td>\n",
       "      <td>13.3</td>\n",
       "      <td>561.98450</td>\n",
       "      <td>5</td>\n",
       "      <td>24.98746</td>\n",
       "      <td>121.54391</td>\n",
       "      <td>47.3</td>\n",
       "    </tr>\n",
       "    <tr>\n",
       "      <th>3</th>\n",
       "      <td>2013.500</td>\n",
       "      <td>13.3</td>\n",
       "      <td>561.98450</td>\n",
       "      <td>5</td>\n",
       "      <td>24.98746</td>\n",
       "      <td>121.54391</td>\n",
       "      <td>54.8</td>\n",
       "    </tr>\n",
       "    <tr>\n",
       "      <th>4</th>\n",
       "      <td>2012.833</td>\n",
       "      <td>NaN</td>\n",
       "      <td>390.56840</td>\n",
       "      <td>5</td>\n",
       "      <td>24.97937</td>\n",
       "      <td>121.54245</td>\n",
       "      <td>43.1</td>\n",
       "    </tr>\n",
       "    <tr>\n",
       "      <th>5</th>\n",
       "      <td>2012.667</td>\n",
       "      <td>7.1</td>\n",
       "      <td>2175.03000</td>\n",
       "      <td>3</td>\n",
       "      <td>24.96305</td>\n",
       "      <td>121.51254</td>\n",
       "      <td>32.1</td>\n",
       "    </tr>\n",
       "    <tr>\n",
       "      <th>6</th>\n",
       "      <td>2012.667</td>\n",
       "      <td>34.5</td>\n",
       "      <td>623.47310</td>\n",
       "      <td>7</td>\n",
       "      <td>24.97933</td>\n",
       "      <td>121.53642</td>\n",
       "      <td>40.3</td>\n",
       "    </tr>\n",
       "    <tr>\n",
       "      <th>7</th>\n",
       "      <td>2013.417</td>\n",
       "      <td>20.3</td>\n",
       "      <td>287.60250</td>\n",
       "      <td>6</td>\n",
       "      <td>24.98042</td>\n",
       "      <td>121.54228</td>\n",
       "      <td>46.7</td>\n",
       "    </tr>\n",
       "    <tr>\n",
       "      <th>8</th>\n",
       "      <td>2013.500</td>\n",
       "      <td>31.7</td>\n",
       "      <td>5512.03800</td>\n",
       "      <td>1</td>\n",
       "      <td>24.95095</td>\n",
       "      <td>121.48458</td>\n",
       "      <td>18.8</td>\n",
       "    </tr>\n",
       "    <tr>\n",
       "      <th>9</th>\n",
       "      <td>2013.417</td>\n",
       "      <td>17.9</td>\n",
       "      <td>1783.18000</td>\n",
       "      <td>3</td>\n",
       "      <td>24.96731</td>\n",
       "      <td>121.51486</td>\n",
       "      <td>22.1</td>\n",
       "    </tr>\n",
       "    <tr>\n",
       "      <th>10</th>\n",
       "      <td>2013.083</td>\n",
       "      <td>34.8</td>\n",
       "      <td>405.21340</td>\n",
       "      <td>1</td>\n",
       "      <td>24.97349</td>\n",
       "      <td>121.53372</td>\n",
       "      <td>41.4</td>\n",
       "    </tr>\n",
       "    <tr>\n",
       "      <th>11</th>\n",
       "      <td>2013.333</td>\n",
       "      <td>6.3</td>\n",
       "      <td>90.45606</td>\n",
       "      <td>9</td>\n",
       "      <td>24.97433</td>\n",
       "      <td>121.54310</td>\n",
       "      <td>58.1</td>\n",
       "    </tr>\n",
       "    <tr>\n",
       "      <th>12</th>\n",
       "      <td>2012.917</td>\n",
       "      <td>NaN</td>\n",
       "      <td>492.23130</td>\n",
       "      <td>5</td>\n",
       "      <td>24.96515</td>\n",
       "      <td>121.53737</td>\n",
       "      <td>39.3</td>\n",
       "    </tr>\n",
       "    <tr>\n",
       "      <th>13</th>\n",
       "      <td>2012.667</td>\n",
       "      <td>20.4</td>\n",
       "      <td>2469.64500</td>\n",
       "      <td>4</td>\n",
       "      <td>24.96108</td>\n",
       "      <td>121.51046</td>\n",
       "      <td>23.8</td>\n",
       "    </tr>\n",
       "    <tr>\n",
       "      <th>14</th>\n",
       "      <td>2013.500</td>\n",
       "      <td>13.2</td>\n",
       "      <td>1164.83800</td>\n",
       "      <td>4</td>\n",
       "      <td>24.99156</td>\n",
       "      <td>121.53406</td>\n",
       "      <td>34.3</td>\n",
       "    </tr>\n",
       "    <tr>\n",
       "      <th>15</th>\n",
       "      <td>2013.583</td>\n",
       "      <td>35.7</td>\n",
       "      <td>579.20830</td>\n",
       "      <td>2</td>\n",
       "      <td>24.98240</td>\n",
       "      <td>121.54619</td>\n",
       "      <td>50.5</td>\n",
       "    </tr>\n",
       "    <tr>\n",
       "      <th>16</th>\n",
       "      <td>2013.250</td>\n",
       "      <td>NaN</td>\n",
       "      <td>292.99780</td>\n",
       "      <td>6</td>\n",
       "      <td>24.97744</td>\n",
       "      <td>121.54458</td>\n",
       "      <td>70.1</td>\n",
       "    </tr>\n",
       "    <tr>\n",
       "      <th>17</th>\n",
       "      <td>2012.750</td>\n",
       "      <td>17.7</td>\n",
       "      <td>350.85150</td>\n",
       "      <td>1</td>\n",
       "      <td>24.97544</td>\n",
       "      <td>121.53119</td>\n",
       "      <td>37.4</td>\n",
       "    </tr>\n",
       "    <tr>\n",
       "      <th>18</th>\n",
       "      <td>2013.417</td>\n",
       "      <td>16.9</td>\n",
       "      <td>368.13630</td>\n",
       "      <td>8</td>\n",
       "      <td>24.96750</td>\n",
       "      <td>121.54451</td>\n",
       "      <td>42.3</td>\n",
       "    </tr>\n",
       "    <tr>\n",
       "      <th>19</th>\n",
       "      <td>2012.667</td>\n",
       "      <td>1.5</td>\n",
       "      <td>23.38284</td>\n",
       "      <td>7</td>\n",
       "      <td>24.96772</td>\n",
       "      <td>121.54102</td>\n",
       "      <td>47.7</td>\n",
       "    </tr>\n",
       "    <tr>\n",
       "      <th>20</th>\n",
       "      <td>2013.417</td>\n",
       "      <td>4.5</td>\n",
       "      <td>2275.87700</td>\n",
       "      <td>3</td>\n",
       "      <td>24.96314</td>\n",
       "      <td>121.51151</td>\n",
       "      <td>29.3</td>\n",
       "    </tr>\n",
       "    <tr>\n",
       "      <th>21</th>\n",
       "      <td>2013.417</td>\n",
       "      <td>10.5</td>\n",
       "      <td>279.17260</td>\n",
       "      <td>7</td>\n",
       "      <td>24.97528</td>\n",
       "      <td>121.54541</td>\n",
       "      <td>51.6</td>\n",
       "    </tr>\n",
       "    <tr>\n",
       "      <th>22</th>\n",
       "      <td>2012.917</td>\n",
       "      <td>14.7</td>\n",
       "      <td>1360.13900</td>\n",
       "      <td>1</td>\n",
       "      <td>24.95204</td>\n",
       "      <td>121.54842</td>\n",
       "      <td>24.6</td>\n",
       "    </tr>\n",
       "    <tr>\n",
       "      <th>23</th>\n",
       "      <td>2013.083</td>\n",
       "      <td>10.1</td>\n",
       "      <td>279.17260</td>\n",
       "      <td>7</td>\n",
       "      <td>24.97528</td>\n",
       "      <td>121.54541</td>\n",
       "      <td>47.9</td>\n",
       "    </tr>\n",
       "    <tr>\n",
       "      <th>24</th>\n",
       "      <td>2013.000</td>\n",
       "      <td>39.6</td>\n",
       "      <td>480.69770</td>\n",
       "      <td>4</td>\n",
       "      <td>24.97353</td>\n",
       "      <td>121.53885</td>\n",
       "      <td>38.8</td>\n",
       "    </tr>\n",
       "    <tr>\n",
       "      <th>25</th>\n",
       "      <td>2013.083</td>\n",
       "      <td>29.3</td>\n",
       "      <td>1487.86800</td>\n",
       "      <td>2</td>\n",
       "      <td>24.97542</td>\n",
       "      <td>121.51726</td>\n",
       "      <td>27.0</td>\n",
       "    </tr>\n",
       "    <tr>\n",
       "      <th>26</th>\n",
       "      <td>2012.667</td>\n",
       "      <td>3.1</td>\n",
       "      <td>383.86240</td>\n",
       "      <td>5</td>\n",
       "      <td>24.98085</td>\n",
       "      <td>121.54391</td>\n",
       "      <td>56.2</td>\n",
       "    </tr>\n",
       "    <tr>\n",
       "      <th>27</th>\n",
       "      <td>2013.250</td>\n",
       "      <td>NaN</td>\n",
       "      <td>276.44900</td>\n",
       "      <td>5</td>\n",
       "      <td>24.95593</td>\n",
       "      <td>121.53913</td>\n",
       "      <td>33.6</td>\n",
       "    </tr>\n",
       "    <tr>\n",
       "      <th>28</th>\n",
       "      <td>2013.500</td>\n",
       "      <td>19.2</td>\n",
       "      <td>557.47800</td>\n",
       "      <td>4</td>\n",
       "      <td>24.97419</td>\n",
       "      <td>121.53797</td>\n",
       "      <td>47.0</td>\n",
       "    </tr>\n",
       "    <tr>\n",
       "      <th>29</th>\n",
       "      <td>2013.083</td>\n",
       "      <td>7.1</td>\n",
       "      <td>451.24380</td>\n",
       "      <td>5</td>\n",
       "      <td>24.97563</td>\n",
       "      <td>121.54694</td>\n",
       "      <td>57.1</td>\n",
       "    </tr>\n",
       "    <tr>\n",
       "      <th>...</th>\n",
       "      <td>...</td>\n",
       "      <td>...</td>\n",
       "      <td>...</td>\n",
       "      <td>...</td>\n",
       "      <td>...</td>\n",
       "      <td>...</td>\n",
       "      <td>...</td>\n",
       "    </tr>\n",
       "    <tr>\n",
       "      <th>384</th>\n",
       "      <td>2012.750</td>\n",
       "      <td>16.1</td>\n",
       "      <td>4066.58700</td>\n",
       "      <td>0</td>\n",
       "      <td>24.94297</td>\n",
       "      <td>121.50342</td>\n",
       "      <td>12.9</td>\n",
       "    </tr>\n",
       "    <tr>\n",
       "      <th>385</th>\n",
       "      <td>2013.000</td>\n",
       "      <td>18.3</td>\n",
       "      <td>82.88643</td>\n",
       "      <td>10</td>\n",
       "      <td>24.98300</td>\n",
       "      <td>121.54026</td>\n",
       "      <td>46.6</td>\n",
       "    </tr>\n",
       "    <tr>\n",
       "      <th>386</th>\n",
       "      <td>2012.833</td>\n",
       "      <td>0.0</td>\n",
       "      <td>185.42960</td>\n",
       "      <td>0</td>\n",
       "      <td>24.97110</td>\n",
       "      <td>121.53170</td>\n",
       "      <td>55.3</td>\n",
       "    </tr>\n",
       "    <tr>\n",
       "      <th>387</th>\n",
       "      <td>2013.250</td>\n",
       "      <td>16.2</td>\n",
       "      <td>2103.55500</td>\n",
       "      <td>3</td>\n",
       "      <td>24.96042</td>\n",
       "      <td>121.51462</td>\n",
       "      <td>25.6</td>\n",
       "    </tr>\n",
       "    <tr>\n",
       "      <th>388</th>\n",
       "      <td>2013.500</td>\n",
       "      <td>10.4</td>\n",
       "      <td>2251.93800</td>\n",
       "      <td>4</td>\n",
       "      <td>24.95957</td>\n",
       "      <td>121.51353</td>\n",
       "      <td>27.3</td>\n",
       "    </tr>\n",
       "    <tr>\n",
       "      <th>389</th>\n",
       "      <td>2013.250</td>\n",
       "      <td>40.9</td>\n",
       "      <td>122.36190</td>\n",
       "      <td>8</td>\n",
       "      <td>24.96756</td>\n",
       "      <td>121.54230</td>\n",
       "      <td>67.7</td>\n",
       "    </tr>\n",
       "    <tr>\n",
       "      <th>390</th>\n",
       "      <td>2013.500</td>\n",
       "      <td>32.8</td>\n",
       "      <td>377.83020</td>\n",
       "      <td>9</td>\n",
       "      <td>24.97151</td>\n",
       "      <td>121.54350</td>\n",
       "      <td>38.6</td>\n",
       "    </tr>\n",
       "    <tr>\n",
       "      <th>391</th>\n",
       "      <td>2013.583</td>\n",
       "      <td>6.2</td>\n",
       "      <td>1939.74900</td>\n",
       "      <td>1</td>\n",
       "      <td>24.95155</td>\n",
       "      <td>121.55387</td>\n",
       "      <td>31.3</td>\n",
       "    </tr>\n",
       "    <tr>\n",
       "      <th>392</th>\n",
       "      <td>2013.083</td>\n",
       "      <td>42.7</td>\n",
       "      <td>443.80200</td>\n",
       "      <td>6</td>\n",
       "      <td>24.97927</td>\n",
       "      <td>121.53874</td>\n",
       "      <td>35.3</td>\n",
       "    </tr>\n",
       "    <tr>\n",
       "      <th>393</th>\n",
       "      <td>2013.000</td>\n",
       "      <td>16.9</td>\n",
       "      <td>967.40000</td>\n",
       "      <td>4</td>\n",
       "      <td>24.98872</td>\n",
       "      <td>121.53408</td>\n",
       "      <td>40.3</td>\n",
       "    </tr>\n",
       "    <tr>\n",
       "      <th>394</th>\n",
       "      <td>2013.500</td>\n",
       "      <td>32.6</td>\n",
       "      <td>4136.27100</td>\n",
       "      <td>1</td>\n",
       "      <td>24.95544</td>\n",
       "      <td>121.49630</td>\n",
       "      <td>24.7</td>\n",
       "    </tr>\n",
       "    <tr>\n",
       "      <th>395</th>\n",
       "      <td>2012.917</td>\n",
       "      <td>21.2</td>\n",
       "      <td>512.54870</td>\n",
       "      <td>4</td>\n",
       "      <td>24.97400</td>\n",
       "      <td>121.53842</td>\n",
       "      <td>42.5</td>\n",
       "    </tr>\n",
       "    <tr>\n",
       "      <th>396</th>\n",
       "      <td>2012.667</td>\n",
       "      <td>37.1</td>\n",
       "      <td>918.63570</td>\n",
       "      <td>1</td>\n",
       "      <td>24.97198</td>\n",
       "      <td>121.55063</td>\n",
       "      <td>31.9</td>\n",
       "    </tr>\n",
       "    <tr>\n",
       "      <th>397</th>\n",
       "      <td>2013.417</td>\n",
       "      <td>13.1</td>\n",
       "      <td>1164.83800</td>\n",
       "      <td>4</td>\n",
       "      <td>24.99156</td>\n",
       "      <td>121.53406</td>\n",
       "      <td>32.2</td>\n",
       "    </tr>\n",
       "    <tr>\n",
       "      <th>398</th>\n",
       "      <td>2013.417</td>\n",
       "      <td>14.7</td>\n",
       "      <td>1717.19300</td>\n",
       "      <td>2</td>\n",
       "      <td>24.96447</td>\n",
       "      <td>121.51649</td>\n",
       "      <td>23.0</td>\n",
       "    </tr>\n",
       "    <tr>\n",
       "      <th>399</th>\n",
       "      <td>2012.917</td>\n",
       "      <td>12.7</td>\n",
       "      <td>170.12890</td>\n",
       "      <td>1</td>\n",
       "      <td>24.97371</td>\n",
       "      <td>121.52984</td>\n",
       "      <td>37.3</td>\n",
       "    </tr>\n",
       "    <tr>\n",
       "      <th>400</th>\n",
       "      <td>2013.250</td>\n",
       "      <td>26.8</td>\n",
       "      <td>482.75810</td>\n",
       "      <td>5</td>\n",
       "      <td>24.97433</td>\n",
       "      <td>121.53863</td>\n",
       "      <td>35.5</td>\n",
       "    </tr>\n",
       "    <tr>\n",
       "      <th>401</th>\n",
       "      <td>2013.083</td>\n",
       "      <td>7.6</td>\n",
       "      <td>2175.03000</td>\n",
       "      <td>3</td>\n",
       "      <td>24.96305</td>\n",
       "      <td>121.51254</td>\n",
       "      <td>27.7</td>\n",
       "    </tr>\n",
       "    <tr>\n",
       "      <th>402</th>\n",
       "      <td>2012.833</td>\n",
       "      <td>12.7</td>\n",
       "      <td>187.48230</td>\n",
       "      <td>1</td>\n",
       "      <td>24.97388</td>\n",
       "      <td>121.52981</td>\n",
       "      <td>28.5</td>\n",
       "    </tr>\n",
       "    <tr>\n",
       "      <th>403</th>\n",
       "      <td>2012.667</td>\n",
       "      <td>30.9</td>\n",
       "      <td>161.94200</td>\n",
       "      <td>9</td>\n",
       "      <td>24.98353</td>\n",
       "      <td>121.53966</td>\n",
       "      <td>39.7</td>\n",
       "    </tr>\n",
       "    <tr>\n",
       "      <th>404</th>\n",
       "      <td>2013.333</td>\n",
       "      <td>16.4</td>\n",
       "      <td>289.32480</td>\n",
       "      <td>5</td>\n",
       "      <td>24.98203</td>\n",
       "      <td>121.54348</td>\n",
       "      <td>41.2</td>\n",
       "    </tr>\n",
       "    <tr>\n",
       "      <th>405</th>\n",
       "      <td>2012.667</td>\n",
       "      <td>23.0</td>\n",
       "      <td>130.99450</td>\n",
       "      <td>6</td>\n",
       "      <td>24.95663</td>\n",
       "      <td>121.53765</td>\n",
       "      <td>37.2</td>\n",
       "    </tr>\n",
       "    <tr>\n",
       "      <th>406</th>\n",
       "      <td>2013.167</td>\n",
       "      <td>1.9</td>\n",
       "      <td>372.13860</td>\n",
       "      <td>7</td>\n",
       "      <td>24.97293</td>\n",
       "      <td>121.54026</td>\n",
       "      <td>40.5</td>\n",
       "    </tr>\n",
       "    <tr>\n",
       "      <th>407</th>\n",
       "      <td>2013.000</td>\n",
       "      <td>5.2</td>\n",
       "      <td>2408.99300</td>\n",
       "      <td>0</td>\n",
       "      <td>24.95505</td>\n",
       "      <td>121.55964</td>\n",
       "      <td>22.3</td>\n",
       "    </tr>\n",
       "    <tr>\n",
       "      <th>408</th>\n",
       "      <td>2013.417</td>\n",
       "      <td>18.5</td>\n",
       "      <td>2175.74400</td>\n",
       "      <td>3</td>\n",
       "      <td>24.96330</td>\n",
       "      <td>121.51243</td>\n",
       "      <td>28.1</td>\n",
       "    </tr>\n",
       "    <tr>\n",
       "      <th>409</th>\n",
       "      <td>2013.000</td>\n",
       "      <td>13.7</td>\n",
       "      <td>4082.01500</td>\n",
       "      <td>0</td>\n",
       "      <td>24.94155</td>\n",
       "      <td>121.50381</td>\n",
       "      <td>15.4</td>\n",
       "    </tr>\n",
       "    <tr>\n",
       "      <th>410</th>\n",
       "      <td>2012.667</td>\n",
       "      <td>5.6</td>\n",
       "      <td>90.45606</td>\n",
       "      <td>9</td>\n",
       "      <td>24.97433</td>\n",
       "      <td>121.54310</td>\n",
       "      <td>50.0</td>\n",
       "    </tr>\n",
       "    <tr>\n",
       "      <th>411</th>\n",
       "      <td>2013.250</td>\n",
       "      <td>18.8</td>\n",
       "      <td>390.96960</td>\n",
       "      <td>7</td>\n",
       "      <td>24.97923</td>\n",
       "      <td>121.53986</td>\n",
       "      <td>40.6</td>\n",
       "    </tr>\n",
       "    <tr>\n",
       "      <th>412</th>\n",
       "      <td>2013.000</td>\n",
       "      <td>8.1</td>\n",
       "      <td>104.81010</td>\n",
       "      <td>5</td>\n",
       "      <td>24.96674</td>\n",
       "      <td>121.54067</td>\n",
       "      <td>52.5</td>\n",
       "    </tr>\n",
       "    <tr>\n",
       "      <th>413</th>\n",
       "      <td>2013.500</td>\n",
       "      <td>6.5</td>\n",
       "      <td>90.45606</td>\n",
       "      <td>9</td>\n",
       "      <td>24.97433</td>\n",
       "      <td>121.54310</td>\n",
       "      <td>63.9</td>\n",
       "    </tr>\n",
       "  </tbody>\n",
       "</table>\n",
       "<p>414 rows × 7 columns</p>\n",
       "</div>"
      ],
      "text/plain": [
       "           TD    HA        DNMS  NCS        LA         LO     P\n",
       "0    2012.917  32.0    84.87882   10  24.98298  121.54024  37.9\n",
       "1    2012.917  19.5   306.59470    9  24.98034  121.53951  42.2\n",
       "2    2013.583  13.3   561.98450    5  24.98746  121.54391  47.3\n",
       "3    2013.500  13.3   561.98450    5  24.98746  121.54391  54.8\n",
       "4    2012.833   NaN   390.56840    5  24.97937  121.54245  43.1\n",
       "5    2012.667   7.1  2175.03000    3  24.96305  121.51254  32.1\n",
       "6    2012.667  34.5   623.47310    7  24.97933  121.53642  40.3\n",
       "7    2013.417  20.3   287.60250    6  24.98042  121.54228  46.7\n",
       "8    2013.500  31.7  5512.03800    1  24.95095  121.48458  18.8\n",
       "9    2013.417  17.9  1783.18000    3  24.96731  121.51486  22.1\n",
       "10   2013.083  34.8   405.21340    1  24.97349  121.53372  41.4\n",
       "11   2013.333   6.3    90.45606    9  24.97433  121.54310  58.1\n",
       "12   2012.917   NaN   492.23130    5  24.96515  121.53737  39.3\n",
       "13   2012.667  20.4  2469.64500    4  24.96108  121.51046  23.8\n",
       "14   2013.500  13.2  1164.83800    4  24.99156  121.53406  34.3\n",
       "15   2013.583  35.7   579.20830    2  24.98240  121.54619  50.5\n",
       "16   2013.250   NaN   292.99780    6  24.97744  121.54458  70.1\n",
       "17   2012.750  17.7   350.85150    1  24.97544  121.53119  37.4\n",
       "18   2013.417  16.9   368.13630    8  24.96750  121.54451  42.3\n",
       "19   2012.667   1.5    23.38284    7  24.96772  121.54102  47.7\n",
       "20   2013.417   4.5  2275.87700    3  24.96314  121.51151  29.3\n",
       "21   2013.417  10.5   279.17260    7  24.97528  121.54541  51.6\n",
       "22   2012.917  14.7  1360.13900    1  24.95204  121.54842  24.6\n",
       "23   2013.083  10.1   279.17260    7  24.97528  121.54541  47.9\n",
       "24   2013.000  39.6   480.69770    4  24.97353  121.53885  38.8\n",
       "25   2013.083  29.3  1487.86800    2  24.97542  121.51726  27.0\n",
       "26   2012.667   3.1   383.86240    5  24.98085  121.54391  56.2\n",
       "27   2013.250   NaN   276.44900    5  24.95593  121.53913  33.6\n",
       "28   2013.500  19.2   557.47800    4  24.97419  121.53797  47.0\n",
       "29   2013.083   7.1   451.24380    5  24.97563  121.54694  57.1\n",
       "..        ...   ...         ...  ...       ...        ...   ...\n",
       "384  2012.750  16.1  4066.58700    0  24.94297  121.50342  12.9\n",
       "385  2013.000  18.3    82.88643   10  24.98300  121.54026  46.6\n",
       "386  2012.833   0.0   185.42960    0  24.97110  121.53170  55.3\n",
       "387  2013.250  16.2  2103.55500    3  24.96042  121.51462  25.6\n",
       "388  2013.500  10.4  2251.93800    4  24.95957  121.51353  27.3\n",
       "389  2013.250  40.9   122.36190    8  24.96756  121.54230  67.7\n",
       "390  2013.500  32.8   377.83020    9  24.97151  121.54350  38.6\n",
       "391  2013.583   6.2  1939.74900    1  24.95155  121.55387  31.3\n",
       "392  2013.083  42.7   443.80200    6  24.97927  121.53874  35.3\n",
       "393  2013.000  16.9   967.40000    4  24.98872  121.53408  40.3\n",
       "394  2013.500  32.6  4136.27100    1  24.95544  121.49630  24.7\n",
       "395  2012.917  21.2   512.54870    4  24.97400  121.53842  42.5\n",
       "396  2012.667  37.1   918.63570    1  24.97198  121.55063  31.9\n",
       "397  2013.417  13.1  1164.83800    4  24.99156  121.53406  32.2\n",
       "398  2013.417  14.7  1717.19300    2  24.96447  121.51649  23.0\n",
       "399  2012.917  12.7   170.12890    1  24.97371  121.52984  37.3\n",
       "400  2013.250  26.8   482.75810    5  24.97433  121.53863  35.5\n",
       "401  2013.083   7.6  2175.03000    3  24.96305  121.51254  27.7\n",
       "402  2012.833  12.7   187.48230    1  24.97388  121.52981  28.5\n",
       "403  2012.667  30.9   161.94200    9  24.98353  121.53966  39.7\n",
       "404  2013.333  16.4   289.32480    5  24.98203  121.54348  41.2\n",
       "405  2012.667  23.0   130.99450    6  24.95663  121.53765  37.2\n",
       "406  2013.167   1.9   372.13860    7  24.97293  121.54026  40.5\n",
       "407  2013.000   5.2  2408.99300    0  24.95505  121.55964  22.3\n",
       "408  2013.417  18.5  2175.74400    3  24.96330  121.51243  28.1\n",
       "409  2013.000  13.7  4082.01500    0  24.94155  121.50381  15.4\n",
       "410  2012.667   5.6    90.45606    9  24.97433  121.54310  50.0\n",
       "411  2013.250  18.8   390.96960    7  24.97923  121.53986  40.6\n",
       "412  2013.000   8.1   104.81010    5  24.96674  121.54067  52.5\n",
       "413  2013.500   6.5    90.45606    9  24.97433  121.54310  63.9\n",
       "\n",
       "[414 rows x 7 columns]"
      ]
     },
     "execution_count": 3,
     "metadata": {},
     "output_type": "execute_result"
    }
   ],
   "source": [
    "data"
   ]
  },
  {
   "cell_type": "code",
   "execution_count": 4,
   "metadata": {},
   "outputs": [
    {
     "data": {
      "text/html": [
       "<div>\n",
       "<style scoped>\n",
       "    .dataframe tbody tr th:only-of-type {\n",
       "        vertical-align: middle;\n",
       "    }\n",
       "\n",
       "    .dataframe tbody tr th {\n",
       "        vertical-align: top;\n",
       "    }\n",
       "\n",
       "    .dataframe thead th {\n",
       "        text-align: right;\n",
       "    }\n",
       "</style>\n",
       "<table border=\"1\" class=\"dataframe\">\n",
       "  <thead>\n",
       "    <tr style=\"text-align: right;\">\n",
       "      <th></th>\n",
       "      <th>TD</th>\n",
       "      <th>HA</th>\n",
       "      <th>DNMS</th>\n",
       "      <th>NCS</th>\n",
       "      <th>LA</th>\n",
       "      <th>LO</th>\n",
       "      <th>P</th>\n",
       "    </tr>\n",
       "  </thead>\n",
       "  <tbody>\n",
       "    <tr>\n",
       "      <th>0</th>\n",
       "      <td>2012.917</td>\n",
       "      <td>32.0</td>\n",
       "      <td>84.87882</td>\n",
       "      <td>10</td>\n",
       "      <td>24.98298</td>\n",
       "      <td>121.54024</td>\n",
       "      <td>37.9</td>\n",
       "    </tr>\n",
       "    <tr>\n",
       "      <th>1</th>\n",
       "      <td>2012.917</td>\n",
       "      <td>19.5</td>\n",
       "      <td>306.59470</td>\n",
       "      <td>9</td>\n",
       "      <td>24.98034</td>\n",
       "      <td>121.53951</td>\n",
       "      <td>42.2</td>\n",
       "    </tr>\n",
       "    <tr>\n",
       "      <th>2</th>\n",
       "      <td>2013.583</td>\n",
       "      <td>13.3</td>\n",
       "      <td>561.98450</td>\n",
       "      <td>5</td>\n",
       "      <td>24.98746</td>\n",
       "      <td>121.54391</td>\n",
       "      <td>47.3</td>\n",
       "    </tr>\n",
       "    <tr>\n",
       "      <th>3</th>\n",
       "      <td>2013.500</td>\n",
       "      <td>13.3</td>\n",
       "      <td>561.98450</td>\n",
       "      <td>5</td>\n",
       "      <td>24.98746</td>\n",
       "      <td>121.54391</td>\n",
       "      <td>54.8</td>\n",
       "    </tr>\n",
       "    <tr>\n",
       "      <th>4</th>\n",
       "      <td>2012.833</td>\n",
       "      <td>NaN</td>\n",
       "      <td>390.56840</td>\n",
       "      <td>5</td>\n",
       "      <td>24.97937</td>\n",
       "      <td>121.54245</td>\n",
       "      <td>43.1</td>\n",
       "    </tr>\n",
       "  </tbody>\n",
       "</table>\n",
       "</div>"
      ],
      "text/plain": [
       "         TD    HA       DNMS  NCS        LA         LO     P\n",
       "0  2012.917  32.0   84.87882   10  24.98298  121.54024  37.9\n",
       "1  2012.917  19.5  306.59470    9  24.98034  121.53951  42.2\n",
       "2  2013.583  13.3  561.98450    5  24.98746  121.54391  47.3\n",
       "3  2013.500  13.3  561.98450    5  24.98746  121.54391  54.8\n",
       "4  2012.833   NaN  390.56840    5  24.97937  121.54245  43.1"
      ]
     },
     "execution_count": 4,
     "metadata": {},
     "output_type": "execute_result"
    }
   ],
   "source": [
    "data.head()"
   ]
  },
  {
   "cell_type": "code",
   "execution_count": 5,
   "metadata": {},
   "outputs": [
    {
     "name": "stdout",
     "output_type": "stream",
     "text": [
      "<class 'pandas.core.frame.DataFrame'>\n",
      "RangeIndex: 414 entries, 0 to 413\n",
      "Data columns (total 7 columns):\n",
      "TD      414 non-null float64\n",
      "HA      409 non-null float64\n",
      "DNMS    414 non-null float64\n",
      "NCS     414 non-null int64\n",
      "LA      414 non-null float64\n",
      " LO     414 non-null float64\n",
      "P       414 non-null float64\n",
      "dtypes: float64(6), int64(1)\n",
      "memory usage: 22.7 KB\n"
     ]
    }
   ],
   "source": [
    "data.info()"
   ]
  },
  {
   "cell_type": "code",
   "execution_count": 6,
   "metadata": {},
   "outputs": [
    {
     "data": {
      "text/html": [
       "<div>\n",
       "<style scoped>\n",
       "    .dataframe tbody tr th:only-of-type {\n",
       "        vertical-align: middle;\n",
       "    }\n",
       "\n",
       "    .dataframe tbody tr th {\n",
       "        vertical-align: top;\n",
       "    }\n",
       "\n",
       "    .dataframe thead th {\n",
       "        text-align: right;\n",
       "    }\n",
       "</style>\n",
       "<table border=\"1\" class=\"dataframe\">\n",
       "  <thead>\n",
       "    <tr style=\"text-align: right;\">\n",
       "      <th></th>\n",
       "      <th>TD</th>\n",
       "      <th>HA</th>\n",
       "      <th>DNMS</th>\n",
       "      <th>NCS</th>\n",
       "      <th>LA</th>\n",
       "      <th>LO</th>\n",
       "      <th>P</th>\n",
       "    </tr>\n",
       "  </thead>\n",
       "  <tbody>\n",
       "    <tr>\n",
       "      <th>count</th>\n",
       "      <td>414.000000</td>\n",
       "      <td>409.000000</td>\n",
       "      <td>414.000000</td>\n",
       "      <td>414.000000</td>\n",
       "      <td>414.000000</td>\n",
       "      <td>414.000000</td>\n",
       "      <td>414.000000</td>\n",
       "    </tr>\n",
       "    <tr>\n",
       "      <th>mean</th>\n",
       "      <td>2013.148971</td>\n",
       "      <td>17.825672</td>\n",
       "      <td>1083.885689</td>\n",
       "      <td>4.094203</td>\n",
       "      <td>24.969030</td>\n",
       "      <td>121.533361</td>\n",
       "      <td>37.980193</td>\n",
       "    </tr>\n",
       "    <tr>\n",
       "      <th>std</th>\n",
       "      <td>0.281967</td>\n",
       "      <td>11.400888</td>\n",
       "      <td>1262.109595</td>\n",
       "      <td>2.945562</td>\n",
       "      <td>0.012410</td>\n",
       "      <td>0.015347</td>\n",
       "      <td>13.606488</td>\n",
       "    </tr>\n",
       "    <tr>\n",
       "      <th>min</th>\n",
       "      <td>2012.667000</td>\n",
       "      <td>0.000000</td>\n",
       "      <td>23.382840</td>\n",
       "      <td>0.000000</td>\n",
       "      <td>24.932070</td>\n",
       "      <td>121.473530</td>\n",
       "      <td>7.600000</td>\n",
       "    </tr>\n",
       "    <tr>\n",
       "      <th>25%</th>\n",
       "      <td>2012.917000</td>\n",
       "      <td>9.100000</td>\n",
       "      <td>289.324800</td>\n",
       "      <td>1.000000</td>\n",
       "      <td>24.963000</td>\n",
       "      <td>121.528085</td>\n",
       "      <td>27.700000</td>\n",
       "    </tr>\n",
       "    <tr>\n",
       "      <th>50%</th>\n",
       "      <td>2013.167000</td>\n",
       "      <td>16.200000</td>\n",
       "      <td>492.231300</td>\n",
       "      <td>4.000000</td>\n",
       "      <td>24.971100</td>\n",
       "      <td>121.538630</td>\n",
       "      <td>38.450000</td>\n",
       "    </tr>\n",
       "    <tr>\n",
       "      <th>75%</th>\n",
       "      <td>2013.417000</td>\n",
       "      <td>28.400000</td>\n",
       "      <td>1454.279000</td>\n",
       "      <td>6.000000</td>\n",
       "      <td>24.977455</td>\n",
       "      <td>121.543305</td>\n",
       "      <td>46.600000</td>\n",
       "    </tr>\n",
       "    <tr>\n",
       "      <th>max</th>\n",
       "      <td>2013.583000</td>\n",
       "      <td>43.800000</td>\n",
       "      <td>6488.021000</td>\n",
       "      <td>10.000000</td>\n",
       "      <td>25.014590</td>\n",
       "      <td>121.566270</td>\n",
       "      <td>117.500000</td>\n",
       "    </tr>\n",
       "  </tbody>\n",
       "</table>\n",
       "</div>"
      ],
      "text/plain": [
       "                TD          HA         DNMS         NCS          LA  \\\n",
       "count   414.000000  409.000000   414.000000  414.000000  414.000000   \n",
       "mean   2013.148971   17.825672  1083.885689    4.094203   24.969030   \n",
       "std       0.281967   11.400888  1262.109595    2.945562    0.012410   \n",
       "min    2012.667000    0.000000    23.382840    0.000000   24.932070   \n",
       "25%    2012.917000    9.100000   289.324800    1.000000   24.963000   \n",
       "50%    2013.167000   16.200000   492.231300    4.000000   24.971100   \n",
       "75%    2013.417000   28.400000  1454.279000    6.000000   24.977455   \n",
       "max    2013.583000   43.800000  6488.021000   10.000000   25.014590   \n",
       "\n",
       "               LO           P  \n",
       "count  414.000000  414.000000  \n",
       "mean   121.533361   37.980193  \n",
       "std      0.015347   13.606488  \n",
       "min    121.473530    7.600000  \n",
       "25%    121.528085   27.700000  \n",
       "50%    121.538630   38.450000  \n",
       "75%    121.543305   46.600000  \n",
       "max    121.566270  117.500000  "
      ]
     },
     "execution_count": 6,
     "metadata": {},
     "output_type": "execute_result"
    }
   ],
   "source": [
    "data.describe()"
   ]
  },
  {
   "cell_type": "code",
   "execution_count": 7,
   "metadata": {},
   "outputs": [],
   "source": [
    "%matplotlib inline"
   ]
  },
  {
   "cell_type": "code",
   "execution_count": 8,
   "metadata": {},
   "outputs": [
    {
     "data": {
      "text/plain": [
       "array([[<matplotlib.axes._subplots.AxesSubplot object at 0x000001725DB76518>,\n",
       "        <matplotlib.axes._subplots.AxesSubplot object at 0x000001725DBC86A0>,\n",
       "        <matplotlib.axes._subplots.AxesSubplot object at 0x000001725DBFDC50>],\n",
       "       [<matplotlib.axes._subplots.AxesSubplot object at 0x000001725DC3B208>,\n",
       "        <matplotlib.axes._subplots.AxesSubplot object at 0x000001725DC6B7B8>,\n",
       "        <matplotlib.axes._subplots.AxesSubplot object at 0x000001725DC9CD68>],\n",
       "       [<matplotlib.axes._subplots.AxesSubplot object at 0x000001725DCD9358>,\n",
       "        <matplotlib.axes._subplots.AxesSubplot object at 0x000001725DD09940>,\n",
       "        <matplotlib.axes._subplots.AxesSubplot object at 0x000001725DD09978>]],\n",
       "      dtype=object)"
      ]
     },
     "execution_count": 8,
     "metadata": {},
     "output_type": "execute_result"
    },
    {
     "data": {
      "image/png": "[encoded data removed]",
      "text/plain": [
       "<Figure size 1440x1152 with 9 Axes>"
      ]
     },
     "metadata": {
      "needs_background": "light"
     },
     "output_type": "display_data"
    }
   ],
   "source": [
    "data.hist(bins=50, figsize=(20,16))"
   ]
  },
  {
   "cell_type": "code",
   "execution_count": 9,
   "metadata": {},
   "outputs": [],
   "source": [
    "## train_test spliting"
   ]
  },
  {
   "cell_type": "code",
   "execution_count": 10,
   "metadata": {},
   "outputs": [],
   "source": [
    "import numpy as np\n",
    "def split_train_test(data,test_ratio):\n",
    "    np.random.seed(40)\n",
    "    shuffled=np.random.permutation(len(data))\n",
    "    test_set_size=int(len(data)*test_ratio)\n",
    "    test_indices=shuffled[:test_set_size]\n",
    "    train_indices=shuffled[test_set_size:]\n",
    "    return data.iloc[train_indices], data.iloc[test_indices]\n"
   ]
  },
  {
   "cell_type": "code",
   "execution_count": 11,
   "metadata": {},
   "outputs": [
    {
     "name": "stdout",
     "output_type": "stream",
     "text": [
      "row of train set :332\n",
      " row of test set :82\n"
     ]
    }
   ],
   "source": [
    "train_set, test_set=split_train_test(data,0.2)\n",
    "print(f\"row of train set :{len(train_set)}\\n row of test set :{len(test_set)}\")"
   ]
  },
  {
   "cell_type": "code",
   "execution_count": 12,
   "metadata": {},
   "outputs": [],
   "source": [
    "from sklearn.model_selection import train_test_split\n",
    "train_set,test_set=train_test_split(data,test_size=0.2, random_state=42)"
   ]
  },
  {
   "cell_type": "code",
   "execution_count": 13,
   "metadata": {},
   "outputs": [
    {
     "data": {
      "text/html": [
       "<div>\n",
       "<style scoped>\n",
       "    .dataframe tbody tr th:only-of-type {\n",
       "        vertical-align: middle;\n",
       "    }\n",
       "\n",
       "    .dataframe tbody tr th {\n",
       "        vertical-align: top;\n",
       "    }\n",
       "\n",
       "    .dataframe thead th {\n",
       "        text-align: right;\n",
       "    }\n",
       "</style>\n",
       "<table border=\"1\" class=\"dataframe\">\n",
       "  <thead>\n",
       "    <tr style=\"text-align: right;\">\n",
       "      <th></th>\n",
       "      <th>TD</th>\n",
       "      <th>HA</th>\n",
       "      <th>DNMS</th>\n",
       "      <th>NCS</th>\n",
       "      <th>LA</th>\n",
       "      <th>LO</th>\n",
       "      <th>P</th>\n",
       "    </tr>\n",
       "  </thead>\n",
       "  <tbody>\n",
       "    <tr>\n",
       "      <th>TD</th>\n",
       "      <td>1.000000</td>\n",
       "      <td>0.016777</td>\n",
       "      <td>0.060880</td>\n",
       "      <td>0.009635</td>\n",
       "      <td>0.035058</td>\n",
       "      <td>-0.041082</td>\n",
       "      <td>0.087491</td>\n",
       "    </tr>\n",
       "    <tr>\n",
       "      <th>HA</th>\n",
       "      <td>0.016777</td>\n",
       "      <td>1.000000</td>\n",
       "      <td>0.022550</td>\n",
       "      <td>0.052974</td>\n",
       "      <td>0.061859</td>\n",
       "      <td>-0.044450</td>\n",
       "      <td>-0.204346</td>\n",
       "    </tr>\n",
       "    <tr>\n",
       "      <th>DNMS</th>\n",
       "      <td>0.060880</td>\n",
       "      <td>0.022550</td>\n",
       "      <td>1.000000</td>\n",
       "      <td>-0.602519</td>\n",
       "      <td>-0.591067</td>\n",
       "      <td>-0.806317</td>\n",
       "      <td>-0.673613</td>\n",
       "    </tr>\n",
       "    <tr>\n",
       "      <th>NCS</th>\n",
       "      <td>0.009635</td>\n",
       "      <td>0.052974</td>\n",
       "      <td>-0.602519</td>\n",
       "      <td>1.000000</td>\n",
       "      <td>0.444143</td>\n",
       "      <td>0.449099</td>\n",
       "      <td>0.571005</td>\n",
       "    </tr>\n",
       "    <tr>\n",
       "      <th>LA</th>\n",
       "      <td>0.035058</td>\n",
       "      <td>0.061859</td>\n",
       "      <td>-0.591067</td>\n",
       "      <td>0.444143</td>\n",
       "      <td>1.000000</td>\n",
       "      <td>0.412924</td>\n",
       "      <td>0.546307</td>\n",
       "    </tr>\n",
       "    <tr>\n",
       "      <th>LO</th>\n",
       "      <td>-0.041082</td>\n",
       "      <td>-0.044450</td>\n",
       "      <td>-0.806317</td>\n",
       "      <td>0.449099</td>\n",
       "      <td>0.412924</td>\n",
       "      <td>1.000000</td>\n",
       "      <td>0.523287</td>\n",
       "    </tr>\n",
       "    <tr>\n",
       "      <th>P</th>\n",
       "      <td>0.087491</td>\n",
       "      <td>-0.204346</td>\n",
       "      <td>-0.673613</td>\n",
       "      <td>0.571005</td>\n",
       "      <td>0.546307</td>\n",
       "      <td>0.523287</td>\n",
       "      <td>1.000000</td>\n",
       "    </tr>\n",
       "  </tbody>\n",
       "</table>\n",
       "</div>"
      ],
      "text/plain": [
       "            TD        HA      DNMS       NCS        LA        LO         P\n",
       "TD    1.000000  0.016777  0.060880  0.009635  0.035058 -0.041082  0.087491\n",
       "HA    0.016777  1.000000  0.022550  0.052974  0.061859 -0.044450 -0.204346\n",
       "DNMS  0.060880  0.022550  1.000000 -0.602519 -0.591067 -0.806317 -0.673613\n",
       "NCS   0.009635  0.052974 -0.602519  1.000000  0.444143  0.449099  0.571005\n",
       "LA    0.035058  0.061859 -0.591067  0.444143  1.000000  0.412924  0.546307\n",
       " LO  -0.041082 -0.044450 -0.806317  0.449099  0.412924  1.000000  0.523287\n",
       "P     0.087491 -0.204346 -0.673613  0.571005  0.546307  0.523287  1.000000"
      ]
     },
     "execution_count": 13,
     "metadata": {},
     "output_type": "execute_result"
    }
   ],
   "source": [
    "data.corr(method ='pearson')"
   ]
  },
  {
   "cell_type": "code",
   "execution_count": 14,
   "metadata": {},
   "outputs": [],
   "source": [
    "from pandas.plotting import scatter_matrix"
   ]
  },
  {
   "cell_type": "code",
   "execution_count": 15,
   "metadata": {},
   "outputs": [],
   "source": [
    "attributes=[\"P\",\"LA\",\"DNMS\"]"
   ]
  },
  {
   "cell_type": "code",
   "execution_count": 16,
   "metadata": {},
   "outputs": [
    {
     "data": {
      "text/plain": [
       "array([[<matplotlib.axes._subplots.AxesSubplot object at 0x0000017260A10E80>,\n",
       "        <matplotlib.axes._subplots.AxesSubplot object at 0x0000017260A5F5F8>,\n",
       "        <matplotlib.axes._subplots.AxesSubplot object at 0x0000017260A90BA8>],\n",
       "       [<matplotlib.axes._subplots.AxesSubplot object at 0x0000017260ACF160>,\n",
       "        <matplotlib.axes._subplots.AxesSubplot object at 0x0000017260B00710>,\n",
       "        <matplotlib.axes._subplots.AxesSubplot object at 0x0000017260B32CC0>],\n",
       "       [<matplotlib.axes._subplots.AxesSubplot object at 0x0000017260B712B0>,\n",
       "        <matplotlib.axes._subplots.AxesSubplot object at 0x0000017260B9F898>,\n",
       "        <matplotlib.axes._subplots.AxesSubplot object at 0x0000017260B9F8D0>]],\n",
       "      dtype=object)"
      ]
     },
     "execution_count": 16,
     "metadata": {},
     "output_type": "execute_result"
    },
    {
     "data": {
      "image/png": "[encoded data removed]",
      "text/plain": [
       "<Figure size 864x576 with 9 Axes>"
      ]
     },
     "metadata": {
      "needs_background": "light"
     },
     "output_type": "display_data"
    }
   ],
   "source": [
    "scatter_matrix(data[attributes], figsize=(12,8))"
   ]
  },
  {
   "cell_type": "code",
   "execution_count": 17,
   "metadata": {},
   "outputs": [
    {
     "data": {
      "text/plain": [
       "<matplotlib.axes._subplots.AxesSubplot at 0x17260d85780>"
      ]
     },
     "execution_count": 17,
     "metadata": {},
     "output_type": "execute_result"
    },
    {
     "data": {
      "image/png": "[encoded data removed]",
      "text/plain": [
       "<Figure size 432x288 with 1 Axes>"
      ]
     },
     "metadata": {
      "needs_background": "light"
     },
     "output_type": "display_data"
    }
   ],
   "source": [
    "data.plot(kind=\"scatter\", x=\"NCS\", y=\"P\", alpha=0.8)"
   ]
  },
  {
   "cell_type": "code",
   "execution_count": 18,
   "metadata": {
    "scrolled": true
   },
   "outputs": [
    {
     "data": {
      "text/plain": [
       "<matplotlib.axes._subplots.AxesSubplot at 0x17260dbbe48>"
      ]
     },
     "execution_count": 18,
     "metadata": {},
     "output_type": "execute_result"
    },
    {
     "data": {
      "image/png": "[encoded data removed]",
      "text/plain": [
       "<Figure size 432x288 with 1 Axes>"
      ]
     },
     "metadata": {
      "needs_background": "light"
     },
     "output_type": "display_data"
    }
   ],
   "source": [
    "data.plot(kind=\"scatter\", x=\"DNMS\", y=\"P\", alpha=0.8)"
   ]
  },
  {
   "cell_type": "code",
   "execution_count": 19,
   "metadata": {},
   "outputs": [],
   "source": [
    "data= train_set.drop(\"P\",axis=1)\n",
    "data_labels=train_set[\"P\"].copy()"
   ]
  },
  {
   "cell_type": "code",
   "execution_count": 20,
   "metadata": {},
   "outputs": [
    {
     "name": "stdout",
     "output_type": "stream",
     "text": [
      "<class 'pandas.core.frame.DataFrame'>\n",
      "Int64Index: 331 entries, 192 to 102\n",
      "Data columns (total 6 columns):\n",
      "TD      331 non-null float64\n",
      "HA      326 non-null float64\n",
      "DNMS    331 non-null float64\n",
      "NCS     331 non-null int64\n",
      "LA      331 non-null float64\n",
      " LO     331 non-null float64\n",
      "dtypes: float64(5), int64(1)\n",
      "memory usage: 18.1 KB\n"
     ]
    }
   ],
   "source": [
    "data.info()"
   ]
  },
  {
   "cell_type": "code",
   "execution_count": 21,
   "metadata": {},
   "outputs": [
    {
     "data": {
      "text/plain": [
       "(326, 6)"
      ]
     },
     "execution_count": 21,
     "metadata": {},
     "output_type": "execute_result"
    }
   ],
   "source": [
    "a=data.dropna(subset=[\"HA\"])\n",
    "a.shape"
   ]
  },
  {
   "cell_type": "code",
   "execution_count": 22,
   "metadata": {},
   "outputs": [
    {
     "data": {
      "text/plain": [
       "(331, 5)"
      ]
     },
     "execution_count": 22,
     "metadata": {},
     "output_type": "execute_result"
    }
   ],
   "source": [
    "a=data.drop(\"HA\", axis=1)\n",
    "a.shape"
   ]
  },
  {
   "cell_type": "code",
   "execution_count": 23,
   "metadata": {},
   "outputs": [],
   "source": [
    "median=data[\"HA\"].median()"
   ]
  },
  {
   "cell_type": "code",
   "execution_count": 24,
   "metadata": {},
   "outputs": [
    {
     "data": {
      "text/plain": [
       "16.1"
      ]
     },
     "execution_count": 24,
     "metadata": {},
     "output_type": "execute_result"
    }
   ],
   "source": [
    "median"
   ]
  },
  {
   "cell_type": "code",
   "execution_count": 25,
   "metadata": {},
   "outputs": [
    {
     "data": {
      "text/plain": [
       "192    43.8\n",
       "234     8.0\n",
       "5       7.1\n",
       "45     36.6\n",
       "245     7.5\n",
       "346    13.2\n",
       "195    15.2\n",
       "382    16.3\n",
       "400    26.8\n",
       "296    12.5\n",
       "3      13.3\n",
       "18     16.9\n",
       "250    39.2\n",
       "60     11.0\n",
       "390    32.8\n",
       "408    18.5\n",
       "63      2.6\n",
       "261    16.2\n",
       "297    34.9\n",
       "113    14.8\n",
       "248    19.0\n",
       "326     4.1\n",
       "410     5.6\n",
       "391     6.2\n",
       "352    18.4\n",
       "132    26.6\n",
       "237    13.0\n",
       "108    31.4\n",
       "101    12.7\n",
       "193     9.7\n",
       "       ... \n",
       "235    12.9\n",
       "252     5.9\n",
       "21     10.5\n",
       "313     8.3\n",
       "160     3.5\n",
       "276    19.1\n",
       "191    13.2\n",
       "385    18.3\n",
       "293    12.6\n",
       "343    33.5\n",
       "257    17.3\n",
       "308    16.4\n",
       "149    34.9\n",
       "130    29.6\n",
       "151     4.9\n",
       "359     5.6\n",
       "99      6.4\n",
       "372    33.9\n",
       "87     16.9\n",
       "330    32.0\n",
       "214    18.1\n",
       "121    13.6\n",
       "413     6.5\n",
       "20      4.5\n",
       "188    34.8\n",
       "71     35.5\n",
       "106    17.2\n",
       "270    10.8\n",
       "348     4.6\n",
       "102     1.1\n",
       "Name: HA, Length: 331, dtype: float64"
      ]
     },
     "execution_count": 25,
     "metadata": {},
     "output_type": "execute_result"
    }
   ],
   "source": [
    "data[\"HA\"].fillna(median)"
   ]
  },
  {
   "cell_type": "code",
   "execution_count": 26,
   "metadata": {},
   "outputs": [
    {
     "data": {
      "text/plain": [
       "(331, 6)"
      ]
     },
     "execution_count": 26,
     "metadata": {},
     "output_type": "execute_result"
    }
   ],
   "source": [
    "data.shape"
   ]
  },
  {
   "cell_type": "code",
   "execution_count": 27,
   "metadata": {},
   "outputs": [
    {
     "data": {
      "text/plain": [
       "SimpleImputer(add_indicator=False, copy=True, fill_value=None,\n",
       "              missing_values=nan, strategy='median', verbose=0)"
      ]
     },
     "execution_count": 27,
     "metadata": {},
     "output_type": "execute_result"
    }
   ],
   "source": [
    "from sklearn.impute import SimpleImputer \n",
    "imputer=SimpleImputer(strategy=\"median\")\n",
    "imputer.fit(data)"
   ]
  },
  {
   "cell_type": "code",
   "execution_count": 28,
   "metadata": {},
   "outputs": [
    {
     "data": {
      "text/plain": [
       "array([2013.167  ,   16.1    ,  492.2313 ,    4.     ,   24.9711 ,\n",
       "        121.53917])"
      ]
     },
     "execution_count": 28,
     "metadata": {},
     "output_type": "execute_result"
    }
   ],
   "source": [
    "imputer.statistics_"
   ]
  },
  {
   "cell_type": "code",
   "execution_count": 29,
   "metadata": {},
   "outputs": [],
   "source": [
    "x=imputer.transform(data)"
   ]
  },
  {
   "cell_type": "code",
   "execution_count": 30,
   "metadata": {},
   "outputs": [],
   "source": [
    "data_tr=pd.DataFrame(x, columns=data.columns)"
   ]
  },
  {
   "cell_type": "code",
   "execution_count": 31,
   "metadata": {},
   "outputs": [
    {
     "name": "stdout",
     "output_type": "stream",
     "text": [
      "<class 'pandas.core.frame.DataFrame'>\n",
      "RangeIndex: 331 entries, 0 to 330\n",
      "Data columns (total 6 columns):\n",
      "TD      331 non-null float64\n",
      "HA      331 non-null float64\n",
      "DNMS    331 non-null float64\n",
      "NCS     331 non-null float64\n",
      "LA      331 non-null float64\n",
      " LO     331 non-null float64\n",
      "dtypes: float64(6)\n",
      "memory usage: 15.6 KB\n"
     ]
    }
   ],
   "source": [
    "data_tr.info()"
   ]
  },
  {
   "cell_type": "code",
   "execution_count": 32,
   "metadata": {},
   "outputs": [
    {
     "data": {
      "text/html": [
       "<div>\n",
       "<style scoped>\n",
       "    .dataframe tbody tr th:only-of-type {\n",
       "        vertical-align: middle;\n",
       "    }\n",
       "\n",
       "    .dataframe tbody tr th {\n",
       "        vertical-align: top;\n",
       "    }\n",
       "\n",
       "    .dataframe thead th {\n",
       "        text-align: right;\n",
       "    }\n",
       "</style>\n",
       "<table border=\"1\" class=\"dataframe\">\n",
       "  <thead>\n",
       "    <tr style=\"text-align: right;\">\n",
       "      <th></th>\n",
       "      <th>TD</th>\n",
       "      <th>HA</th>\n",
       "      <th>DNMS</th>\n",
       "      <th>NCS</th>\n",
       "      <th>LA</th>\n",
       "      <th>LO</th>\n",
       "    </tr>\n",
       "  </thead>\n",
       "  <tbody>\n",
       "    <tr>\n",
       "      <th>count</th>\n",
       "      <td>331.000000</td>\n",
       "      <td>331.000000</td>\n",
       "      <td>331.000000</td>\n",
       "      <td>331.000000</td>\n",
       "      <td>331.000000</td>\n",
       "      <td>331.000000</td>\n",
       "    </tr>\n",
       "    <tr>\n",
       "      <th>mean</th>\n",
       "      <td>2013.166683</td>\n",
       "      <td>17.404230</td>\n",
       "      <td>1059.603962</td>\n",
       "      <td>4.145015</td>\n",
       "      <td>24.969333</td>\n",
       "      <td>121.533885</td>\n",
       "    </tr>\n",
       "    <tr>\n",
       "      <th>std</th>\n",
       "      <td>0.281570</td>\n",
       "      <td>11.256892</td>\n",
       "      <td>1217.929569</td>\n",
       "      <td>2.953703</td>\n",
       "      <td>0.012484</td>\n",
       "      <td>0.014976</td>\n",
       "    </tr>\n",
       "    <tr>\n",
       "      <th>min</th>\n",
       "      <td>2012.667000</td>\n",
       "      <td>0.000000</td>\n",
       "      <td>23.382840</td>\n",
       "      <td>0.000000</td>\n",
       "      <td>24.932070</td>\n",
       "      <td>121.475160</td>\n",
       "    </tr>\n",
       "    <tr>\n",
       "      <th>25%</th>\n",
       "      <td>2012.917000</td>\n",
       "      <td>8.700000</td>\n",
       "      <td>289.324800</td>\n",
       "      <td>1.000000</td>\n",
       "      <td>24.963010</td>\n",
       "      <td>121.529665</td>\n",
       "    </tr>\n",
       "    <tr>\n",
       "      <th>50%</th>\n",
       "      <td>2013.167000</td>\n",
       "      <td>16.100000</td>\n",
       "      <td>492.231300</td>\n",
       "      <td>4.000000</td>\n",
       "      <td>24.971100</td>\n",
       "      <td>121.539170</td>\n",
       "    </tr>\n",
       "    <tr>\n",
       "      <th>75%</th>\n",
       "      <td>2013.417000</td>\n",
       "      <td>27.200000</td>\n",
       "      <td>1442.932500</td>\n",
       "      <td>6.000000</td>\n",
       "      <td>24.978260</td>\n",
       "      <td>121.543480</td>\n",
       "    </tr>\n",
       "    <tr>\n",
       "      <th>max</th>\n",
       "      <td>2013.583000</td>\n",
       "      <td>43.800000</td>\n",
       "      <td>6306.153000</td>\n",
       "      <td>10.000000</td>\n",
       "      <td>25.014590</td>\n",
       "      <td>121.566270</td>\n",
       "    </tr>\n",
       "  </tbody>\n",
       "</table>\n",
       "</div>"
      ],
      "text/plain": [
       "                TD          HA         DNMS         NCS          LA  \\\n",
       "count   331.000000  331.000000   331.000000  331.000000  331.000000   \n",
       "mean   2013.166683   17.404230  1059.603962    4.145015   24.969333   \n",
       "std       0.281570   11.256892  1217.929569    2.953703    0.012484   \n",
       "min    2012.667000    0.000000    23.382840    0.000000   24.932070   \n",
       "25%    2012.917000    8.700000   289.324800    1.000000   24.963010   \n",
       "50%    2013.167000   16.100000   492.231300    4.000000   24.971100   \n",
       "75%    2013.417000   27.200000  1442.932500    6.000000   24.978260   \n",
       "max    2013.583000   43.800000  6306.153000   10.000000   25.014590   \n",
       "\n",
       "               LO  \n",
       "count  331.000000  \n",
       "mean   121.533885  \n",
       "std      0.014976  \n",
       "min    121.475160  \n",
       "25%    121.529665  \n",
       "50%    121.539170  \n",
       "75%    121.543480  \n",
       "max    121.566270  "
      ]
     },
     "execution_count": 32,
     "metadata": {},
     "output_type": "execute_result"
    }
   ],
   "source": [
    "data_tr.describe()"
   ]
  },
  {
   "cell_type": "code",
   "execution_count": 33,
   "metadata": {},
   "outputs": [],
   "source": [
    "from sklearn.pipeline import Pipeline\n",
    "from sklearn.preprocessing import StandardScaler\n",
    "my_pipline=Pipeline([\n",
    "    ('imputer',SimpleImputer(strategy='median')),\n",
    "    ('std_scaler',StandardScaler()),\n",
    "])"
   ]
  },
  {
   "cell_type": "code",
   "execution_count": 34,
   "metadata": {},
   "outputs": [],
   "source": [
    "data_num_tr= my_pipline.fit_transform(data)"
   ]
  },
  {
   "cell_type": "code",
   "execution_count": 35,
   "metadata": {},
   "outputs": [
    {
     "data": {
      "text/plain": [
       "(331, 6)"
      ]
     },
     "execution_count": 35,
     "metadata": {},
     "output_type": "execute_result"
    }
   ],
   "source": [
    "data_num_tr.shape"
   ]
  },
  {
   "cell_type": "code",
   "execution_count": 36,
   "metadata": {},
   "outputs": [
    {
     "data": {
      "text/plain": [
       "RandomForestRegressor(bootstrap=True, criterion='mse', max_depth=None,\n",
       "                      max_features='auto', max_leaf_nodes=None,\n",
       "                      min_impurity_decrease=0.0, min_impurity_split=None,\n",
       "                      min_samples_leaf=1, min_samples_split=2,\n",
       "                      min_weight_fraction_leaf=0.0, n_estimators=10,\n",
       "                      n_jobs=None, oob_score=False, random_state=None,\n",
       "                      verbose=0, warm_start=False)"
      ]
     },
     "execution_count": 36,
     "metadata": {},
     "output_type": "execute_result"
    }
   ],
   "source": [
    "from sklearn.linear_model import  LinearRegression\n",
    "import warnings\n",
    "warnings.filterwarnings(\"ignore\")\n",
    "from sklearn.tree import DecisionTreeRegressor\n",
    "from sklearn.ensemble import RandomForestRegressor\n",
    "from sklearn.datasets import make_regression\n",
    "#model= LinearRegression()\n",
    "#model=DecisionTreeRegressor()\n",
    "model = RandomForestRegressor()\n",
    "model.fit(data_num_tr,data_labels)"
   ]
  },
  {
   "cell_type": "code",
   "execution_count": 37,
   "metadata": {},
   "outputs": [],
   "source": [
    "some_data=data.iloc[:5]\n",
    "some_labels=data_labels.iloc[:5]"
   ]
  },
  {
   "cell_type": "code",
   "execution_count": 38,
   "metadata": {},
   "outputs": [],
   "source": [
    "prepared_data=my_pipline.transform(some_data)"
   ]
  },
  {
   "cell_type": "code",
   "execution_count": 39,
   "metadata": {},
   "outputs": [
    {
     "data": {
      "text/plain": [
       "array([46.29 , 24.6  , 27.95 , 37.385, 40.96 ])"
      ]
     },
     "execution_count": 39,
     "metadata": {},
     "output_type": "execute_result"
    }
   ],
   "source": [
    "model.predict(prepared_data)"
   ]
  },
  {
   "cell_type": "code",
   "execution_count": 40,
   "metadata": {},
   "outputs": [
    {
     "data": {
      "text/plain": [
       "[42.7, 23.9, 32.1, 38.3, 40.8]"
      ]
     },
     "execution_count": 40,
     "metadata": {},
     "output_type": "execute_result"
    }
   ],
   "source": [
    "list(some_labels)"
   ]
  },
  {
   "cell_type": "code",
   "execution_count": 41,
   "metadata": {},
   "outputs": [],
   "source": [
    "from sklearn.metrics import mean_squared_error\n",
    "data_predictions= model.predict(data_num_tr)\n",
    "msc=mean_squared_error(data_labels,data_predictions)\n",
    "rmsc=np.sqrt(msc)"
   ]
  },
  {
   "cell_type": "code",
   "execution_count": 42,
   "metadata": {},
   "outputs": [
    {
     "data": {
      "text/plain": [
       "3.731876840537108"
      ]
     },
     "execution_count": 42,
     "metadata": {},
     "output_type": "execute_result"
    }
   ],
   "source": [
    "rmsc"
   ]
  },
  {
   "cell_type": "code",
   "execution_count": 43,
   "metadata": {},
   "outputs": [],
   "source": [
    "from sklearn.model_selection import cross_val_score\n",
    "scores=cross_val_score(model,data_num_tr,data_labels,scoring=\"neg_mean_squared_error\",cv=10)\n",
    "rmsc_scores=np.sqrt(-scores)"
   ]
  },
  {
   "cell_type": "code",
   "execution_count": 44,
   "metadata": {},
   "outputs": [
    {
     "data": {
      "text/plain": [
       "array([ 7.78974401,  7.19712602, 10.27919579,  8.05628154,  4.91147349,\n",
       "        9.25934561,  5.31433083,  8.03846479,  7.06475666, 14.12381698])"
      ]
     },
     "execution_count": 44,
     "metadata": {},
     "output_type": "execute_result"
    }
   ],
   "source": [
    "rmsc_scores"
   ]
  },
  {
   "cell_type": "code",
   "execution_count": 45,
   "metadata": {},
   "outputs": [],
   "source": [
    "def print_scores(scores):\n",
    "    print(\"scores:\",scores)\n",
    "    print(\"mean:\",scores.mean())\n",
    "    print(\"standrd daviation:\",scores.std())"
   ]
  },
  {
   "cell_type": "code",
   "execution_count": 46,
   "metadata": {},
   "outputs": [
    {
     "name": "stdout",
     "output_type": "stream",
     "text": [
      "scores: [ 7.78974401  7.19712602 10.27919579  8.05628154  4.91147349  9.25934561\n",
      "  5.31433083  8.03846479  7.06475666 14.12381698]\n",
      "mean: 8.203453571852998\n",
      "standrd daviation: 2.49374902628714\n"
     ]
    }
   ],
   "source": [
    "print_scores(rmsc_scores)"
   ]
  },
  {
   "cell_type": "code",
   "execution_count": 47,
   "metadata": {},
   "outputs": [
    {
     "data": {
      "text/plain": [
       "['Drangon.jpblib']"
      ]
     },
     "execution_count": 47,
     "metadata": {},
     "output_type": "execute_result"
    }
   ],
   "source": [
    "from joblib import dump, load\n",
    "dump(model, \"Drangon.jpblib\")"
   ]
  },
  {
   "cell_type": "code",
   "execution_count": 48,
   "metadata": {},
   "outputs": [
    {
     "name": "stdout",
     "output_type": "stream",
     "text": [
      "[49.94       37.95       48.23666667 33.99       26.06       50.87\n",
      " 49.06       47.86       14.35       59.95       28.46       31.83\n",
      " 37.415      14.23       34.93       23.78       39.9        54.165\n",
      " 23.74       37.97       14.92       25.28       48.79       45.87\n",
      " 12.63       34.75       15.09       50.89166667 51.07       37.03\n",
      " 21.45       24.63       36.61       24.65       47.88       35.99\n",
      " 54.09       14.54       47.74       45.61       48.66       39.98\n",
      " 45.37       37.94       40.35       50.23       35.67       24.77\n",
      " 48.84       45.33       49.94       53.27       41.46       37.92\n",
      " 42.86       15.05       38.36333333 24.99       24.11       51.71\n",
      " 25.97       24.7        15.05       13.2        19.81       24.17\n",
      " 25.4        42.01       35.78       26.13       44.21       52.61333333\n",
      " 57.115      51.39       35.93       34.86       37.42       39.92\n",
      " 37.5        33.15       37.71       47.5        26.72      ] [45.1, 42.3, 52.2, 37.3, 22.8, 36.3, 53.0, 51.4, 16.1, 59.0, 30.6, 30.7, 35.6, 13.7, 62.9, 30.5, 41.9, 54.4, 29.5, 43.7, 12.2, 22.1, 49.5, 47.4, 18.6, 28.5, 14.7, 45.4, 41.0, 35.1, 22.1, 28.9, 30.5, 26.5, 49.3, 37.0, 56.3, 15.4, 48.5, 63.3, 50.5, 42.2, 37.9, 37.5, 40.5, 57.4, 26.5, 21.8, 49.7, 47.1, 49.0, 60.7, 33.1, 41.0, 36.5, 20.0, 34.7, 30.6, 25.6, 46.2, 27.7, 27.0, 15.6, 15.5, 11.2, 23.7, 24.6, 42.0, 29.8, 28.9, 48.1, 36.8, 53.5, 51.6, 38.8, 37.4, 40.6, 37.2, 25.0, 23.5, 35.6, 46.1, 26.2]\n"
     ]
    }
   ],
   "source": [
    "x_test=test_set.drop(\"P\",axis=1)\n",
    "y_test=test_set[\"P\"].copy()\n",
    "x_test_prepared=my_pipline.transform(x_test)\n",
    "final_prediction=model.predict(x_test_prepared)\n",
    "final_msc=mean_squared_error(y_test, final_prediction)\n",
    "final_rmsc=np.sqrt(final_msc)\n",
    "print(final_prediction,list(y_test))"
   ]
  },
  {
   "cell_type": "code",
   "execution_count": 49,
   "metadata": {},
   "outputs": [
    {
     "data": {
      "text/plain": [
       "6.044292449758381"
      ]
     },
     "execution_count": 49,
     "metadata": {},
     "output_type": "execute_result"
    }
   ],
   "source": [
    "final_rmsc"
   ]
  },
  {
   "cell_type": "code",
   "execution_count": 50,
   "metadata": {},
   "outputs": [],
   "source": [
    "from joblib import dump, load\n",
    "import numpy as np\n",
    "model=load('Drangon.jpblib')"
   ]
  },
  {
   "cell_type": "code",
   "execution_count": null,
   "metadata": {},
   "outputs": [],
   "source": [
    "input=np.array([[2013.583,13.3,561.9845,5,24.98746,121.54391]])\n",
    "model.predict(input)"
   ]
  }
 ],
 "metadata": {
  "kernelspec": {
   "display_name": "Python 3",
   "language": "python",
   "name": "python3"
  },
  "language_info": {
   "codemirror_mode": {
    "name": "ipython",
    "version": 3
   },
   "file_extension": ".py",
   "mimetype": "text/x-python",
   "name": "python",
   "nbconvert_exporter": "python",
   "pygments_lexer": "ipython3",
   "version": "3.7.3"
  }
 },
 "nbformat": 4,
 "nbformat_minor": 2
}
